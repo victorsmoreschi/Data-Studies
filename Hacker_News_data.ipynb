{
 "cells": [
  {
   "cell_type": "markdown",
   "id": "2222b2c3-edc7-47aa-9760-8e527beb8466",
   "metadata": {},
   "source": [
    "# The Best Way to Post in Hacker News\n",
    "\n",
    "Hacker News is a site started by the startup incubator Y Combinator, where user-submitted stories (known as \"posts\") receive votes and comments, similar to reddit. Hacker News is extremely popular in technology and startup circles, and posts that make it to the top of the Hacker News listings can get hundreds of thousands of visitors as a result.\r\n",
    "\r\n",
    "You can find the data se[t he](https://www.kaggle.com/datasets/hacker-news/hacker-news-posts)re, but note that we have reduced from almost 300,000 rows to approximately 20,000 rows by removing all submissions that didn't receive any comments and then randomly sampling from the remaining submiions.re\n",
    "\n",
    "This project intuit is to explore data of thteHacker News websitenk](https://news.ycombinator.com/) animplement some data analysis to define a good way to get engagement on the plataform.\n",
    "\n",
    "I am specifically interested in posts with titles that begin with either **Ask HN** or **Show HN**. Users submit **Ask HN** posts to ask the Hacker News community a specific question and **Show HN** to show something they learned.\n",
    "e:\n",
    "- Do Ask HN or Show HN receive more comments on average?\n",
    "- Do posts created at a certain time receive more comments on average?"
   ]
  },
  {
   "cell_type": "markdown",
   "id": "15562dd7-f423-4098-b138-a960b177492d",
   "metadata": {},
   "source": [
    "## Basic Data Reading"
   ]
  },
  {
   "cell_type": "markdown",
   "id": "e11123f2-9be6-4202-a09c-3be141b1f688",
   "metadata": {},
   "source": [
    "I start reading the data and separating the header row from the dataset:"
   ]
  },
  {
   "cell_type": "code",
   "execution_count": 5,
   "id": "99de3fba-9907-4cd2-9877-76331bb3bdf3",
   "metadata": {
    "tags": []
   },
   "outputs": [
    {
     "data": {
      "text/plain": [
       "[['id', 'title', 'url', 'num_points', 'num_comments', 'author', 'created_at'],\n",
       " ['12224879',\n",
       "  'Interactive Dynamic Video',\n",
       "  'http://www.interactivedynamicvideo.com/',\n",
       "  '386',\n",
       "  '52',\n",
       "  'ne0phyte',\n",
       "  '8/4/2016 11:52'],\n",
       " ['10975351',\n",
       "  'How to Use Open Source and Shut the Fuck Up at the Same Time',\n",
       "  'http://hueniverse.com/2016/01/26/how-to-use-open-source-and-shut-the-fuck-up-at-the-same-time/',\n",
       "  '39',\n",
       "  '10',\n",
       "  'josep2',\n",
       "  '1/26/2016 19:30'],\n",
       " ['11964716',\n",
       "  \"Florida DJs May Face Felony for April Fools' Water Joke\",\n",
       "  'http://www.thewire.com/entertainment/2013/04/florida-djs-april-fools-water-joke/63798/',\n",
       "  '2',\n",
       "  '1',\n",
       "  'vezycash',\n",
       "  '6/23/2016 22:20'],\n",
       " ['11919867',\n",
       "  'Technology ventures: From Idea to Enterprise',\n",
       "  'https://www.amazon.com/Technology-Ventures-Enterprise-Thomas-Byers/dp/0073523429',\n",
       "  '3',\n",
       "  '1',\n",
       "  'hswarna',\n",
       "  '6/17/2016 0:01']]"
      ]
     },
     "execution_count": 5,
     "metadata": {},
     "output_type": "execute_result"
    }
   ],
   "source": [
    "import datetime as dt\n",
    "import csv\n",
    "import pytz\n",
    "\n",
    "data = open('hacker_news.csv', encoding='utf8')\n",
    "data = csv.reader(data)\n",
    "hn = list(data)\n",
    "hn[:5]\n"
   ]
  },
  {
   "cell_type": "code",
   "execution_count": 6,
   "id": "0ea95e56-8631-4ef7-9310-c849f13c481f",
   "metadata": {},
   "outputs": [
    {
     "data": {
      "text/plain": [
       "[['id', 'title', 'url', 'num_points', 'num_comments', 'author', 'created_at']]"
      ]
     },
     "execution_count": 6,
     "metadata": {},
     "output_type": "execute_result"
    }
   ],
   "source": [
    "headers = hn[:1]\n",
    "hn = hn[1:]\n",
    "headers"
   ]
  },
  {
   "cell_type": "code",
   "execution_count": 7,
   "id": "7b43437f-8221-4f04-8959-793278cb7189",
   "metadata": {},
   "outputs": [
    {
     "data": {
      "text/plain": [
       "[['12296411',\n",
       "  'Ask HN: How to improve my personal website?',\n",
       "  '',\n",
       "  '2',\n",
       "  '6',\n",
       "  'ahmedbaracat',\n",
       "  '8/16/2016 9:55']]"
      ]
     },
     "execution_count": 7,
     "metadata": {},
     "output_type": "execute_result"
    }
   ],
   "source": [
    "hn[7:8] # An example of Ask HN post"
   ]
  },
  {
   "cell_type": "markdown",
   "id": "98897555-7a87-4ed9-b2d4-c2a9bb330464",
   "metadata": {},
   "source": [
    "## Calculations"
   ]
  },
  {
   "cell_type": "markdown",
   "id": "a03eba13-6ec6-4676-8fbb-0853e3dcab2e",
   "metadata": {},
   "source": [
    "Separating the data in 3 new lists to implement the analysis:\n",
    "\n",
    "- `ask_posts`\n",
    "- `show_posts`\n",
    "- `other_posts`"
   ]
  },
  {
   "cell_type": "code",
   "execution_count": 10,
   "id": "238a11ff-9b5d-482f-a15e-e73f83d4448e",
   "metadata": {
    "editable": true,
    "slideshow": {
     "slide_type": ""
    },
    "tags": []
   },
   "outputs": [
    {
     "name": "stdout",
     "output_type": "stream",
     "text": [
      "1744\n"
     ]
    }
   ],
   "source": [
    "ask_posts = []\n",
    "show_posts = []\n",
    "other_posts = []\n",
    "\n",
    "for row in hn:\n",
    "    title = row[1].lower()\n",
    "    if title.startswith('ask hn'):\n",
    "        ask_posts.append(row)\n",
    "    elif title.startswith('show hn'):\n",
    "        show_posts.append(row)\n",
    "    else:\n",
    "        other_posts.append(row)\n",
    "\n",
    "print(len(ask_posts))"
   ]
  },
  {
   "cell_type": "code",
   "execution_count": 11,
   "id": "360a6492-bdce-4df5-a7ed-b4f5daf7b0d1",
   "metadata": {},
   "outputs": [
    {
     "name": "stdout",
     "output_type": "stream",
     "text": [
      "14.038417431192661\n"
     ]
    }
   ],
   "source": [
    "# Calculate the average number of comments `Ask HN` posts receive.\n",
    "total_ask_comments = 0\n",
    "\n",
    "for i in ask_posts:\n",
    "    total_ask_comments += int(i[4])\n",
    "    \n",
    "avg_ask_comments = total_ask_comments / len(ask_posts)\n",
    "print(avg_ask_comments)"
   ]
  },
  {
   "cell_type": "code",
   "execution_count": 12,
   "id": "88d72ada-9f1d-462f-aeb0-fea159c42991",
   "metadata": {},
   "outputs": [
    {
     "name": "stdout",
     "output_type": "stream",
     "text": [
      "10.31669535283993\n"
     ]
    }
   ],
   "source": [
    "# Calculate the average number of comments `Show HN` posts receive.\n",
    "total_show_comments = 0\n",
    "\n",
    "for i in show_posts:\n",
    "    total_show_comments += int(i[4])\n",
    "\n",
    "avg_show_comments = total_show_comments / len(show_posts)\n",
    "print(avg_show_comments)"
   ]
  },
  {
   "cell_type": "markdown",
   "id": "04ba0bc2-d55e-42b5-a605-908d0aa21bd6",
   "metadata": {},
   "source": [
    "On **average**, clearly the ask posts receive near 40% more comments. So, I am going to continue my analysis just with this type of post, since my objective is \n",
    "to find the easiest way to get viral at HackerNews.\n",
    "\n",
    "Continuing, below I create a list that contains only the creation time and number of comments of each post of the dataset.\n",
    "\n",
    "After, I implement frequency tables to find out the number of posts and the comments on posts each hour. "
   ]
  },
  {
   "cell_type": "markdown",
   "id": "19e0a733-6733-4e14-9f32-6bc5285ca2cd",
   "metadata": {},
   "source": [
    "## Filtering by Time"
   ]
  },
  {
   "cell_type": "code",
   "execution_count": 15,
   "id": "f5063dfa-6af8-4683-a565-a5726aa051cb",
   "metadata": {},
   "outputs": [
    {
     "data": {
      "text/plain": [
       "{'09': 251,\n",
       " '13': 1253,\n",
       " '10': 793,\n",
       " '14': 1416,\n",
       " '16': 1814,\n",
       " '23': 543,\n",
       " '12': 687,\n",
       " '17': 1146,\n",
       " '15': 4477,\n",
       " '21': 1745,\n",
       " '20': 1722,\n",
       " '02': 1381,\n",
       " '18': 1439,\n",
       " '03': 421,\n",
       " '05': 464,\n",
       " '19': 1188,\n",
       " '01': 683,\n",
       " '22': 479,\n",
       " '08': 492,\n",
       " '04': 337,\n",
       " '00': 447,\n",
       " '06': 397,\n",
       " '07': 267,\n",
       " '11': 641}"
      ]
     },
     "execution_count": 15,
     "metadata": {},
     "output_type": "execute_result"
    }
   ],
   "source": [
    "\n",
    "\n",
    "result_list = []\n",
    "\n",
    "for i in ask_posts:\n",
    "    created_at = i[6]\n",
    "    post_comments = int(i[4])\n",
    "    result_list.append([created_at,post_comments])\n",
    "    \n",
    "\n",
    "counts_by_hour = {}\n",
    "comments_by_hour = {}\n",
    "date_format = '%m/%d/%Y %H:%M'\n",
    "\n",
    "for i in result_list:\n",
    "    date = i[0]\n",
    "    comment = i[1]\n",
    "    time = dt.datetime.strptime(date, date_format).strftime('%H')\n",
    "    \n",
    "    if time not in counts_by_hour:\n",
    "        counts_by_hour[time] = 1\n",
    "        comments_by_hour[time] = comment\n",
    "\n",
    "    else: \n",
    "        comments_by_hour[time] += comment\n",
    "        counts_by_hour[time] += 1\n",
    "\n",
    "comments_by_hour\n",
    "\n"
   ]
  },
  {
   "cell_type": "markdown",
   "id": "bd44f70c-424c-4851-9524-8dc0dfb17f3c",
   "metadata": {},
   "source": [
    "The number of comments each hour alone it is not useful information. In this way, I calculate the average post for each hour to find out more insightful information "
   ]
  },
  {
   "cell_type": "code",
   "execution_count": 17,
   "id": "66fdad21-188a-4ac0-8165-06c1527dc4c0",
   "metadata": {},
   "outputs": [
    {
     "data": {
      "text/plain": [
       "[['09', 5.5777777777777775],\n",
       " ['13', 14.741176470588234],\n",
       " ['10', 13.440677966101696],\n",
       " ['14', 13.233644859813085],\n",
       " ['16', 16.796296296296298],\n",
       " ['23', 7.985294117647059],\n",
       " ['12', 9.41095890410959],\n",
       " ['17', 11.46],\n",
       " ['15', 38.5948275862069],\n",
       " ['21', 16.009174311926607],\n",
       " ['20', 21.525],\n",
       " ['02', 23.810344827586206],\n",
       " ['18', 13.20183486238532],\n",
       " ['03', 7.796296296296297],\n",
       " ['05', 10.08695652173913],\n",
       " ['19', 10.8],\n",
       " ['01', 11.383333333333333],\n",
       " ['22', 6.746478873239437],\n",
       " ['08', 10.25],\n",
       " ['04', 7.170212765957447],\n",
       " ['00', 8.127272727272727],\n",
       " ['06', 9.022727272727273],\n",
       " ['07', 7.852941176470588],\n",
       " ['11', 11.051724137931034]]"
      ]
     },
     "execution_count": 17,
     "metadata": {},
     "output_type": "execute_result"
    }
   ],
   "source": [
    "avg_by_hour = []\n",
    "\n",
    "for post in comments_by_hour:\n",
    "    avg_by_hour.append([post, (comments_by_hour[post]/counts_by_hour[post])])\n",
    "\n",
    "avg_by_hour"
   ]
  },
  {
   "cell_type": "code",
   "execution_count": 18,
   "id": "a089af44-4ee8-42c8-8fc1-1b4bdaa70ce5",
   "metadata": {},
   "outputs": [
    {
     "name": "stdout",
     "output_type": "stream",
     "text": [
      "[[5.5777777777777775, '09'], [14.741176470588234, '13'], [13.440677966101696, '10'], [13.233644859813085, '14'], [16.796296296296298, '16'], [7.985294117647059, '23'], [9.41095890410959, '12'], [11.46, '17'], [38.5948275862069, '15'], [16.009174311926607, '21'], [21.525, '20'], [23.810344827586206, '02'], [13.20183486238532, '18'], [7.796296296296297, '03'], [10.08695652173913, '05'], [10.8, '19'], [11.383333333333333, '01'], [6.746478873239437, '22'], [10.25, '08'], [7.170212765957447, '04'], [8.127272727272727, '00'], [9.022727272727273, '06'], [7.852941176470588, '07'], [11.051724137931034, '11']]\n"
     ]
    }
   ],
   "source": [
    "# Swap the order of the 'avg_by_hour' list to make it easier to sort for the highest values below.\n",
    "swap_avg_by_hour= []\n",
    "\n",
    "for i in avg_by_hour:\n",
    "    swap_avg_by_hour.append([i[1], i[0]])\n",
    "print(swap_avg_by_hour)   "
   ]
  },
  {
   "cell_type": "code",
   "execution_count": 19,
   "id": "910802cb-5508-473c-aa8d-0cd0f4150295",
   "metadata": {},
   "outputs": [
    {
     "name": "stdout",
     "output_type": "stream",
     "text": [
      "Top 5 Hours for Ask Posts Comments\n"
     ]
    }
   ],
   "source": [
    "sorted_swap = sorted(swap_avg_by_hour, reverse = True)\n",
    "print ('Top 5 Hours for Ask Posts Comments')"
   ]
  },
  {
   "cell_type": "code",
   "execution_count": 20,
   "id": "57ea3a2e-0e7c-4b55-9947-1e0915f65b05",
   "metadata": {},
   "outputs": [
    {
     "name": "stdout",
     "output_type": "stream",
     "text": [
      "15:00: 38.59 average comments per post\n",
      "02:00: 23.81 average comments per post\n",
      "20:00: 21.52 average comments per post\n",
      "16:00: 16.80 average comments per post\n",
      "21:00: 16.01 average comments per post\n"
     ]
    }
   ],
   "source": [
    "# Filtering the top 5 periods of the day to post\n",
    "\n",
    "date_format = '%H'\n",
    "\n",
    "for i in sorted_swap[:5]:\n",
    "    avg = i[0]\n",
    "    time1 = i[1]\n",
    "    time2 = dt.datetime.strptime(time1, date_format).strftime('%H:%M')\n",
    "    print('{time}: {avg:.2f} average comments per post'.format(time = time2, avg = avg))"
   ]
  },
  {
   "cell_type": "markdown",
   "id": "cd491762-1efa-45c9-98de-fb65d2269aca",
   "metadata": {},
   "source": [
    "### Extra Analysis"
   ]
  },
  {
   "cell_type": "markdown",
   "id": "9ac187fb-1c92-436e-884f-ddd0964a7f8f",
   "metadata": {},
   "source": [
    "It is important to notice that the Hacker News Data is stored with the East Europe timezone. As I live in Brazil and hypothetically would post in Brazil, it is important to find out the Top 5 hours to post in Brazil timezone.\n",
    "\n",
    "Of course, I could just ask Google the difference between timezones and mentally calculate it, but this is a good way to let the code ready to change the analysis to any timezone. "
   ]
  },
  {
   "cell_type": "code",
   "execution_count": 23,
   "id": "3b3ea23d-5811-42bc-9351-7c59d168079d",
   "metadata": {},
   "outputs": [
    {
     "name": "stdout",
     "output_type": "stream",
     "text": [
      "12: 38.59 average comments per post\n",
      "23: 23.81 average comments per post\n",
      "17: 21.52 average comments per post\n",
      "13: 16.80 average comments per post\n",
      "18: 16.01 average comments per post\n"
     ]
    }
   ],
   "source": [
    "\n",
    "\n",
    "\n",
    "date_format = '%H'\n",
    "\n",
    "# Defining TimeZones\n",
    "tz_europe = pytz.timezone('Europe/Lisbon')  # Fuso horário de Europa Ocidental\n",
    "tz_brazil = pytz.timezone('America/Sao_Paulo')  # Fuso horário do Brasil\n",
    "\n",
    "for i in sorted_swap[:5]:\n",
    "    avg = i[0]\n",
    "    time1 = i[1]\n",
    "    \n",
    "    # Localize method is used to explicitly associate a time zone with a datetime object that originally has no time zone information\n",
    "    dt_europe = dt.datetime.strptime(time1, date_format)\n",
    "    dt_europe = tz_europe.localize(dt_europe)\n",
    "    \n",
    "    # \n",
    "    dt_brazil = dt_europe.astimezone(tz_brazil)\n",
    "    \n",
    "    # Format the time for output\n",
    "    time_brazil = dt_brazil.strftime('%H')\n",
    "    \n",
    "    print('{time}: {avg:.2f} average comments per post'.format(time=time_brazil, avg=avg))"
   ]
  },
  {
   "cell_type": "markdown",
   "id": "e4ebfb0c-0ac6-484f-beca-e03f6f9a608b",
   "metadata": {},
   "source": [
    "Funny to notice, but my initial premise ('Ask HN' and 'Show HN' posts receive more attention) was wrong and apparently **posts without this tags receive more comments on average**. "
   ]
  },
  {
   "cell_type": "code",
   "execution_count": 25,
   "id": "fb7207ac-62b7-48d8-a444-00f374202b7e",
   "metadata": {},
   "outputs": [
    {
     "name": "stdout",
     "output_type": "stream",
     "text": [
      "26.8730371059672\n"
     ]
    }
   ],
   "source": [
    "# Using 'other_posts' list, which I left in the beggining of the code \n",
    "total_other_comments = 0\n",
    "\n",
    "for i in other_posts:\n",
    "    total_other_comments += int(i[4])\n",
    "\n",
    "avg_other_comments = total_other_comments / len(other_posts)\n",
    "print(avg_other_comments)"
   ]
  },
  {
   "cell_type": "markdown",
   "id": "e6c90705-d916-40fe-a76f-4e3d0c43509a",
   "metadata": {},
   "source": [
    "## Conclusion\n",
    "\n",
    "The basic conclusion is kinda obvious. Between using 'ASK HN' tag or 'SHOW HN' tag in Hacker News website, use 'ASK HN' tag to get more engagement.\n",
    "\n",
    "The best time to post in Brazil on Hacker News is near midday."
   ]
  }
 ],
 "metadata": {
  "kernelspec": {
   "display_name": "Python 3 (ipykernel)",
   "language": "python",
   "name": "python3"
  },
  "language_info": {
   "codemirror_mode": {
    "name": "ipython",
    "version": 3
   },
   "file_extension": ".py",
   "mimetype": "text/x-python",
   "name": "python",
   "nbconvert_exporter": "python",
   "pygments_lexer": "ipython3",
   "version": "3.11.7"
  }
 },
 "nbformat": 4,
 "nbformat_minor": 5
}
